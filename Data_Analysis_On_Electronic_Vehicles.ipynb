{
 "cells": [
  {
   "cell_type": "markdown",
   "metadata": {
    "id": "Ca-cK3Z77L79"
   },
   "source": [
    "## <center><font color='Red'>Data Analysis On Electric Vehicles</font></center>"
   ]
  },
  {
   "cell_type": "markdown",
   "metadata": {
    "id": "0MdffvVT7fVt"
   },
   "source": [
    "# Table of Contents :\n",
    "- 1. Introduction\n",
    "- 2. Data Exploration\n",
    "    - Missing Value Detection    \n",
    "    - Important Observations\n",
    "- 4. TASK A (Exploratory Data Analysis (EDA))\n",
    "    - Univariate Analysis on Each and Every column or feature\n",
    "    - Bivariate Analysis    \n",
    "- 5. Task B (Choropleth)\n",
    "- 6. Task C (bar_chart_race)\n"
   ]
  },
  {
   "cell_type": "markdown",
   "metadata": {
    "id": "ktVCRqc221QU"
   },
   "source": [
    "### Introduction\n",
    "#### Electronic vehicles (EVs) are a type of automobile that use one or more electric motors powered by rechargeable batteries as their primary source of propulsion. They are an eco-friendly and sustainable alternative to traditional internal combustion engine (ICE) vehicles, which rely on fossil fuels for power. EVs have gained significant popularity in recent years due to their potential to reduce greenhouse gas emissions, improve air quality, and decrease dependence on fossil fuels."
   ]
  },
  {
   "cell_type": "markdown",
   "metadata": {
    "id": "BbAUwW-L3BGw"
   },
   "source": [
    "### Loading the data"
   ]
  },
  {
   "cell_type": "code",
   "execution_count": null,
   "metadata": {
    "id": "Nvxq1psh7NfQ"
   },
   "outputs": [],
   "source": [
    "import pandas as pd\n",
    "import plotly.express as px\n"
   ]
  },
  {
   "cell_type": "markdown",
   "metadata": {
    "id": "w0QuXGMG3HUq"
   },
   "source": [
    "## Data Exploration"
   ]
  },
  {
   "cell_type": "code",
   "execution_count": null,
   "metadata": {
    "colab": {
     "base_uri": "https://localhost:8080/",
     "height": 669
    },
    "id": "cPq4c0xE7Y8B",
    "outputId": "d46ba14b-cf9d-483a-f02d-c194e76672c2"
   },
   "outputs": [],
   "source": [
    "## Load The Data\n",
    "df_cars = pd.read_csv(r\"/content/drive/MyDrive/dataset.csv\")\n",
    "df_cars.head()"
   ]
  },
  {
   "cell_type": "code",
   "execution_count": null,
   "metadata": {
    "colab": {
     "base_uri": "https://localhost:8080/"
    },
    "id": "5RClD0Xs79fN",
    "outputId": "e296e2b2-6091-4415-eda5-012d12d9860e"
   },
   "outputs": [],
   "source": [
    "### Checking for the column name and data types\n",
    "df_cars.info()"
   ]
  },
  {
   "cell_type": "markdown",
   "metadata": {
    "id": "U3mHVIYy8WTW"
   },
   "source": [
    "## Detected Missing Values in \"Model\", \"Legislative District\", \"Vehicle Location\", \"Electric Utility\" features."
   ]
  },
  {
   "cell_type": "code",
   "execution_count": null,
   "metadata": {
    "colab": {
     "base_uri": "https://localhost:8080/"
    },
    "id": "SihuXl5zpKTt",
    "outputId": "22c9c196-a8a8-4b9d-b278-c22255717141"
   },
   "outputs": [],
   "source": [
    "df_cars.dropna(axis=0, inplace=True)\n",
    "df_cars.info()\n"
   ]
  },
  {
   "cell_type": "markdown",
   "metadata": {
    "id": "F-fW9sCe8kSt"
   },
   "source": [
    "### Model Feature Missing value treatment"
   ]
  },
  {
   "cell_type": "code",
   "execution_count": null,
   "metadata": {
    "colab": {
     "base_uri": "https://localhost:8080/"
    },
    "id": "nYI5VbjE8DpT",
    "outputId": "a69f67f1-2516-4658-9adf-7d9bc60bdb25"
   },
   "outputs": [],
   "source": [
    "mode_value = df_cars['Model'].mode()[0]  # Compute the mode of the 'Model' column\n",
    "\n",
    "# Replace missing values in the 'Model' column with the mode_value\n",
    "df_cars['Model'].fillna(mode_value, inplace=True)\n",
    "\n",
    "# Display DataFrame information after filling missing values\n",
    "df_cars.info()"
   ]
  },
  {
   "cell_type": "markdown",
   "metadata": {
    "id": "K1IZRwsK8sAD"
   },
   "source": [
    "### Legislative District Missing values treatment"
   ]
  },
  {
   "cell_type": "code",
   "execution_count": null,
   "metadata": {
    "colab": {
     "base_uri": "https://localhost:8080/"
    },
    "id": "bfPjiI-98UUC",
    "outputId": "1b76676d-1d9f-408a-f351-0b71fa81f407"
   },
   "outputs": [],
   "source": [
    "mean_value = df_cars[\"Legislative District\"].mean()\n",
    "\n",
    "# Replace missing values in the 'Legislative District' column with the mean_value\n",
    "df_cars[\"Legislative District\"].fillna(mean_value, inplace=True)\n",
    "\n",
    "# Display DataFrame information after filling missing values\n",
    "df_cars.info()"
   ]
  },
  {
   "cell_type": "markdown",
   "metadata": {
    "id": "J71vYePR888Z"
   },
   "source": [
    "### Vehicle Location Missing Values treament"
   ]
  },
  {
   "cell_type": "code",
   "execution_count": null,
   "metadata": {
    "colab": {
     "base_uri": "https://localhost:8080/"
    },
    "id": "DnHOn8AY8qwU",
    "outputId": "70ce73a1-dfae-4e85-cafc-3e7025ebc47c"
   },
   "outputs": [],
   "source": [
    "\n",
    "# Extract latitude and longitude from the \"Vehicle Location\" column using regular expressions\n",
    "df_cars['Longitude'] = df_cars['Vehicle Location'].str.extract(r'POINT \\(([-\\d.]+) ([-\\d.]+)\\)')[0]\n",
    "df_cars['Latitude'] = df_cars['Vehicle Location'].str.extract(r'POINT \\(([-\\d.]+) ([-\\d.]+)\\)')[1]\n",
    "# Convert the latitude and longitude columns to numeric (float) data type\n",
    "df_cars['Longitude'] = pd.to_numeric(df_cars['Longitude'])\n",
    "df_cars['Latitude'] = pd.to_numeric(df_cars['Latitude'])\n",
    "\n",
    "df_cars.info()"
   ]
  },
  {
   "cell_type": "code",
   "execution_count": null,
   "metadata": {
    "colab": {
     "base_uri": "https://localhost:8080/"
    },
    "id": "yCa41jCQ9Cfg",
    "outputId": "a160946a-e862-412c-a708-6b27b0afbc88"
   },
   "outputs": [],
   "source": [
    "df_cars['Electric Utility'].unique()"
   ]
  },
  {
   "cell_type": "code",
   "execution_count": null,
   "metadata": {
    "id": "yWObiR3L9Lrb"
   },
   "outputs": [],
   "source": [
    "df_cars.drop('Electric Utility', axis=1, inplace=True)\n"
   ]
  },
  {
   "cell_type": "markdown",
   "metadata": {
    "id": "MpCec6n63Pph"
   },
   "source": [
    "# Exploratory Data Analysis"
   ]
  },
  {
   "cell_type": "markdown",
   "metadata": {
    "id": "r3tXW5Lh9jkJ"
   },
   "source": [
    "## Univariate Analysis"
   ]
  },
  {
   "cell_type": "markdown",
   "metadata": {
    "id": "4durjblI-H-f"
   },
   "source": [
    "'Model Year' Univariate Analysis"
   ]
  },
  {
   "cell_type": "code",
   "execution_count": null,
   "metadata": {
    "colab": {
     "base_uri": "https://localhost:8080/",
     "height": 542
    },
    "id": "-gcseYcw9XeI",
    "outputId": "c2aa0160-8ca8-4bef-be19-90808b84d809"
   },
   "outputs": [],
   "source": [
    "fig = px.histogram(df_cars, x='Model Year', title='Hist plot for Model Year')\n",
    "# Show the plot\n",
    "fig.show()"
   ]
  },
  {
   "cell_type": "markdown",
   "metadata": {
    "id": "LxiRoX6k92bQ"
   },
   "source": [
    "### WE can Easily Observe that it left skewed. After 2015 only the usage of elecric vehicles are more.\n"
   ]
  },
  {
   "cell_type": "code",
   "execution_count": null,
   "metadata": {
    "colab": {
     "base_uri": "https://localhost:8080/",
     "height": 542
    },
    "id": "A0133Ldx9dkn",
    "outputId": "7b666b1a-1a7d-4c78-8153-c3badb1c893a"
   },
   "outputs": [],
   "source": [
    "# Create the box plot\n",
    "fig = px.box(data_frame=df_cars, y='Model Year')\n",
    "\n",
    "# Show the plot\n",
    "fig.show()"
   ]
  },
  {
   "cell_type": "markdown",
   "metadata": {
    "id": "PguHLtMt-BLZ"
   },
   "source": [
    "### As We observed in the previous histogram that before 2010 are very less usage of electric cars"
   ]
  },
  {
   "cell_type": "markdown",
   "metadata": {
    "id": "XBm6hraS-jlh"
   },
   "source": [
    "## Otlier treatment by caping"
   ]
  },
  {
   "cell_type": "code",
   "execution_count": null,
   "metadata": {
    "colab": {
     "base_uri": "https://localhost:8080/"
    },
    "id": "lzLRRYmR-Dg4",
    "outputId": "ebea725b-2c38-4b0e-9a96-f088817d98c2"
   },
   "outputs": [],
   "source": [
    "cleaned_EV_df = df_cars[(df_cars[\"Model Year\"] > 2010)]\n",
    "print(cleaned_EV_df.shape)\n",
    "print(df_cars.shape)"
   ]
  },
  {
   "cell_type": "code",
   "execution_count": null,
   "metadata": {
    "colab": {
     "base_uri": "https://localhost:8080/",
     "height": 542
    },
    "id": "N94Pp6mE-olr",
    "outputId": "81f2f4ee-2e3a-41d0-c778-16d5f7f0923d"
   },
   "outputs": [],
   "source": [
    "\n",
    "# Create the box plot\n",
    "fig = px.box(data_frame=df_cars, y='Model Year')\n",
    "\n",
    "# Show the plot\n",
    "fig.show()"
   ]
  },
  {
   "cell_type": "markdown",
   "metadata": {
    "id": "6AzU5BCU-uwa"
   },
   "source": [
    "'Electric Range' Univariate Analysis"
   ]
  },
  {
   "cell_type": "code",
   "execution_count": null,
   "metadata": {
    "colab": {
     "base_uri": "https://localhost:8080/",
     "height": 542
    },
    "id": "NHyZ7vSQ-sSC",
    "outputId": "e7adc968-6937-4e6e-9501-67e38c5f2c98"
   },
   "outputs": [],
   "source": [
    "fig = px.histogram(df_cars, x='Electric Range', title='Count Plot for Electric Range')\n",
    "# Show the plot\n",
    "fig.show()"
   ]
  },
  {
   "cell_type": "code",
   "execution_count": null,
   "metadata": {
    "colab": {
     "base_uri": "https://localhost:8080/",
     "height": 542
    },
    "id": "G07uZyra-58T",
    "outputId": "c31009ac-27e1-4378-db61-e8134cc914d6"
   },
   "outputs": [],
   "source": [
    "fig = px.box(data_frame=df_cars, y='Electric Range')\n",
    "\n",
    "# Show the plot\n",
    "fig.show()"
   ]
  },
  {
   "cell_type": "markdown",
   "metadata": {
    "id": "8UMEzoGy_FP1"
   },
   "source": [
    "### Categorical Unicvariate Analysis"
   ]
  },
  {
   "cell_type": "code",
   "execution_count": null,
   "metadata": {
    "colab": {
     "base_uri": "https://localhost:8080/",
     "height": 542
    },
    "id": "iTpNOMBA_MXC",
    "outputId": "ccaf88c1-6aab-46ae-9319-0b292260920d"
   },
   "outputs": [],
   "source": [
    "# Assuming the column you want to plot is 'County'\n",
    "fig = px.histogram(df_cars, y='County', title='Count Plot for County')\n",
    "# Show the plot\n",
    "fig.show()"
   ]
  },
  {
   "cell_type": "markdown",
   "metadata": {
    "id": "j2B6Eu3W_UQd"
   },
   "source": [
    "### King County has more Electric vehicles than the other countys."
   ]
  },
  {
   "cell_type": "code",
   "execution_count": null,
   "metadata": {
    "colab": {
     "base_uri": "https://localhost:8080/",
     "height": 542
    },
    "id": "uHh2wsM8_Skx",
    "outputId": "cc2b37a1-381a-4f46-8852-d3634c0a8b24"
   },
   "outputs": [],
   "source": [
    "# Assuming the column you want to plot is 'City'\n",
    "fig = px.histogram(df_cars, y='City', title='Count Plot for City')\n",
    "# Show the plot\n",
    "fig.show()\n"
   ]
  },
  {
   "cell_type": "markdown",
   "metadata": {
    "id": "tluI0s5m_qMR"
   },
   "source": [
    "Seatle city has using more Electical vehicles"
   ]
  },
  {
   "cell_type": "code",
   "execution_count": null,
   "metadata": {
    "colab": {
     "base_uri": "https://localhost:8080/",
     "height": 542
    },
    "id": "6ttVvSu7_g4J",
    "outputId": "0fc9f311-598b-43cf-9bf0-a29f8486dba5"
   },
   "outputs": [],
   "source": [
    "# Assuming the column you want to plot is 'County'\n",
    "fig = px.histogram(df_cars, y='Make', title='Count Plot for Make')\n",
    "# Show the plot\n",
    "fig.show()\n"
   ]
  },
  {
   "cell_type": "markdown",
   "metadata": {
    "id": "jZ1iBCPg_5et"
   },
   "source": [
    "Tesla is making more electrical vehicles"
   ]
  },
  {
   "cell_type": "code",
   "execution_count": null,
   "metadata": {
    "colab": {
     "base_uri": "https://localhost:8080/",
     "height": 542
    },
    "id": "P3z0aOu6_2mc",
    "outputId": "8d68c78b-4020-474b-8ebc-6bb8251322c8"
   },
   "outputs": [],
   "source": [
    "\n",
    "fig = px.histogram(df_cars ,y='Electric Vehicle Type', title='Count Plot for Electic Vehicle Type')\n",
    "# Show the plot\n",
    "fig.show()\n"
   ]
  },
  {
   "cell_type": "markdown",
   "metadata": {
    "id": "3cUw7k9oATBX"
   },
   "source": [
    "Battey Elecrtic Vehicle are more in Count."
   ]
  },
  {
   "cell_type": "code",
   "execution_count": null,
   "metadata": {
    "colab": {
     "base_uri": "https://localhost:8080/",
     "height": 542
    },
    "id": "U6unfdsYAFlc",
    "outputId": "753c19d3-c40f-4cca-de3d-6f34fce3cff7"
   },
   "outputs": [],
   "source": [
    "# Assuming the column you want to plot is 'County'\n",
    "fig = px.histogram(df_cars, y='Model', title='Count Plot for Model')\n",
    "# Show the plot\n",
    "fig.show()\n"
   ]
  },
  {
   "cell_type": "markdown",
   "metadata": {
    "id": "WRsne4uHAcTz"
   },
   "source": [
    "### Model 3 and Model Y are more in count"
   ]
  },
  {
   "cell_type": "code",
   "execution_count": null,
   "metadata": {
    "colab": {
     "base_uri": "https://localhost:8080/",
     "height": 517
    },
    "id": "v-GFlLnVAjmo",
    "outputId": "15c90062-fe74-4209-981b-a6e77bc84978"
   },
   "outputs": [],
   "source": [
    "df_cars.corr()"
   ]
  },
  {
   "cell_type": "code",
   "execution_count": null,
   "metadata": {
    "colab": {
     "base_uri": "https://localhost:8080/",
     "height": 542
    },
    "id": "sFLbkV43Aroc",
    "outputId": "724015c4-7ac5-48da-f858-06db53d3e7eb"
   },
   "outputs": [],
   "source": [
    "heatmap = px.imshow(df_cars)\n",
    "\n",
    "# Show the plot\n",
    "heatmap.show()"
   ]
  },
  {
   "cell_type": "markdown",
   "metadata": {
    "id": "EXLGfl6h1eOv"
   },
   "source": [
    "## There is no Positive relation between any columns"
   ]
  },
  {
   "cell_type": "code",
   "execution_count": null,
   "metadata": {
    "colab": {
     "base_uri": "https://localhost:8080/",
     "height": 542
    },
    "id": "_U4A4ojTtLi7",
    "outputId": "965075d2-f485-4dce-e46c-2711403f2916"
   },
   "outputs": [],
   "source": [
    "# scatter plot\n",
    "fig = px.scatter(x=df_cars['Model Year'],y=df_cars['Electric Range'])\n",
    "fig.show()"
   ]
  },
  {
   "cell_type": "code",
   "execution_count": null,
   "metadata": {
    "colab": {
     "base_uri": "https://localhost:8080/",
     "height": 542
    },
    "id": "HkB7785XtYwS",
    "outputId": "f1d1615a-85b3-49b8-e37a-d02c0b2116b7"
   },
   "outputs": [],
   "source": [
    "fig = px.scatter(x=df_cars['Model Year'],y=df_cars['Base MSRP'])\n",
    "fig.show()"
   ]
  },
  {
   "cell_type": "markdown",
   "metadata": {
    "id": "fRBotWtnzP3i"
   },
   "source": [
    "## We can observe that Therre is No strog relation between Model Year and Base  Msrp.\n",
    "## But As year increasing There is a little increase in price.\n",
    "## Based on The Model Year also there may have change in price."
   ]
  },
  {
   "cell_type": "markdown",
   "metadata": {
    "id": "A_HDUjnNA3Bw"
   },
   "source": [
    "## Task B"
   ]
  },
  {
   "cell_type": "code",
   "execution_count": null,
   "metadata": {
    "colab": {
     "base_uri": "https://localhost:8080/"
    },
    "id": "SWbWgOz6A8A9",
    "outputId": "be840e92-09d2-47e2-8f9e-093eb4ea34e6"
   },
   "outputs": [],
   "source": [
    "df_cars.columns"
   ]
  },
  {
   "cell_type": "code",
   "execution_count": null,
   "metadata": {
    "colab": {
     "base_uri": "https://localhost:8080/",
     "height": 423
    },
    "id": "EawjmkvWiWNN",
    "outputId": "b37fe769-17f7-4b27-fce9-75d916ddbef9"
   },
   "outputs": [],
   "source": [
    "location_counts\n"
   ]
  },
  {
   "cell_type": "code",
   "execution_count": null,
   "metadata": {
    "colab": {
     "base_uri": "https://localhost:8080/",
     "height": 617
    },
    "id": "4o5F0-AVhJo4",
    "outputId": "8eba110b-1df5-4b25-d80a-d87d27ea92be"
   },
   "outputs": [],
   "source": [
    "import plotly.express as px\n",
    "\n",
    "state_counts = df_cars.groupby(['State', 'Model Year']).size().reset_index(name='EV Count')\n",
    "\n",
    "state_counts = state_counts.merge(df_cars[['State', 'Model Year', 'Postal Code']].drop_duplicates(), on=['State', 'Model Year'])\n",
    "\n",
    "fig = px.choropleth(\n",
    "    state_counts,\n",
    "    locations='State',\n",
    "    color='EV Count',\n",
    "    hover_name='State',\n",
    "    hover_data=['Model Year', 'EV Count', 'Postal Code'],\n",
    "    locationmode='USA-states',\n",
    "    scope='usa',\n",
    "    title='EV Vehicles by Postalcodes',\n",
    "    animation_frame='Model Year',\n",
    "    center={\"lat\": 37.0902, \"lon\": -95.7129},\n",
    ")\n",
    "\n",
    "fig.update_layout(\n",
    "    height=600, width=800\n",
    ")\n",
    "fig.show()\n"
   ]
  },
  {
   "cell_type": "markdown",
   "metadata": {
    "id": "9D-Xl4kX0uQy"
   },
   "source": [
    "## The above Choropleth graph displays the count of electric vehicles in different states of USA with Make of those vehicles.\n",
    "## It also maps the Postal codes of those states."
   ]
  },
  {
   "cell_type": "markdown",
   "metadata": {
    "id": "lT7GRAteNOXZ"
   },
   "source": [
    "## Task C: Racing BarPlots"
   ]
  },
  {
   "cell_type": "code",
   "execution_count": null,
   "metadata": {
    "colab": {
     "base_uri": "https://localhost:8080/",
     "height": 423
    },
    "id": "tnwjNxnHUkJY",
    "outputId": "59ce8293-caa4-47f3-af42-855e6ef6ccfc"
   },
   "outputs": [],
   "source": [
    "# Step 1: Extract 'Year' from 'Model Year' column\n",
    "df_cars['Year'] = df_cars['Model Year']\n",
    "\n",
    "# Step 2: Extract 'Maker' from 'Make' column\n",
    "df_cars['Maker'] = df_cars['Make']\n",
    "\n",
    "# Step 3: Calculate the count of EV vehicles for each year and maker combination\n",
    "count_data = df_cars.groupby(['Year', 'Maker']).size().reset_index(name='Count')\n",
    "\n",
    "count_data"
   ]
  },
  {
   "cell_type": "code",
   "execution_count": null,
   "metadata": {
    "colab": {
     "base_uri": "https://localhost:8080/",
     "height": 617
    },
    "id": "G2_E6zbswlpd",
    "outputId": "c850fc67-2a1c-4387-b688-e4e20f4597d2"
   },
   "outputs": [],
   "source": [
    "import plotly.express as px\n",
    "\n",
    "make_count_by_year = df_cars.groupby(['Make', 'Model Year']).size().reset_index(name='Count')\n",
    "\n",
    "\n",
    "fig = px.bar(make_count_by_year,\n",
    "             x='Count',\n",
    "             y='Make',\n",
    "             animation_frame='Model Year',\n",
    "             color='Make',\n",
    "             labels={'Make': 'Electric Vehicle Make', 'Count': 'Count of EV Vehicles'},\n",
    "             title='Racing Bar Plot of EV Vehicles by Make and Model Year')\n",
    "\n",
    "fig.update_layout(\n",
    "    xaxis=dict(title='Electric Vehicle Make'),\n",
    "    yaxis=dict(title='Count of EV Vehicles'),\n",
    "    showlegend=False,\n",
    "    height=600, width=800\n",
    ")\n",
    "\n",
    "fig.show()\n"
   ]
  },
  {
   "cell_type": "code",
   "execution_count": null,
   "metadata": {
    "colab": {
     "base_uri": "https://localhost:8080/"
    },
    "id": "2UTVZX2V1Rab",
    "outputId": "34d85584-80e0-401c-d54c-5834f1d2a5c9"
   },
   "outputs": [],
   "source": [
    "!pip install bar_chart_race"
   ]
  },
  {
   "cell_type": "code",
   "execution_count": null,
   "metadata": {
    "colab": {
     "base_uri": "https://localhost:8080/"
    },
    "id": "1-Tlc9BFuNAB",
    "outputId": "84fec534-7eb4-42dd-8657-bd69e7c6eefc"
   },
   "outputs": [],
   "source": [
    "import bar_chart_race as bcr\n",
    "\n",
    "# Group data by 'Make' and 'Model Year' and count the number of EV vehicles for each combination\n",
    "px_make_count_by_year = df_cars.groupby(['Make', 'Model Year']).size().reset_index(name='Count')\n",
    "\n",
    "# Pivot the data to have 'Make' as columns and 'Model Year' as index\n",
    "px_make_count_pivot = px_make_count_by_year.pivot(index='Model Year', columns='Make', values='Count')\n",
    "\n",
    "# Create the bar chart race using the pivoted DataFrame\n",
    "bcr.bar_chart_race(df=px_make_count_pivot, filename='px_make_count_by_year_plot.mp4',title='Racing Bar Plot of EV Vehicles by Make and Model Year')\n"
   ]
  },
  {
   "cell_type": "code",
   "execution_count": null,
   "metadata": {
    "colab": {
     "base_uri": "https://localhost:8080/",
     "height": 526
    },
    "id": "bxd3O0Qft7DH",
    "outputId": "71248a7a-2cdf-4f28-a6bd-50f5b56617f7"
   },
   "outputs": [],
   "source": [
    "from IPython.display import HTML, Video\n",
    "video_path = '/content/px_make_count_by_year_plot.mp4'\n",
    "Video(video_path, embed=True)\n"
   ]
  },
  {
   "cell_type": "markdown",
   "metadata": {
    "id": "1dkr1nhKxc53"
   },
   "source": [
    "### The above bar_chart_race gives Count of electronic Vehicles by make and model year"
   ]
  },
  {
   "cell_type": "code",
   "execution_count": null,
   "metadata": {
    "id": "_dvBoiiH19PI"
   },
   "outputs": [],
   "source": []
  }
 ],
 "metadata": {
  "colab": {
   "provenance": []
  },
  "kernelspec": {
   "display_name": "Python 3 (ipykernel)",
   "language": "python",
   "name": "python3"
  },
  "language_info": {
   "codemirror_mode": {
    "name": "ipython",
    "version": 3
   },
   "file_extension": ".py",
   "mimetype": "text/x-python",
   "name": "python",
   "nbconvert_exporter": "python",
   "pygments_lexer": "ipython3",
   "version": "3.9.13"
  }
 },
 "nbformat": 4,
 "nbformat_minor": 1
}
